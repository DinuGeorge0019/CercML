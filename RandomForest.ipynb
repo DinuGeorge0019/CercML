{
 "cells": [
  {
   "cell_type": "code",
   "execution_count": 23,
   "metadata": {
    "collapsed": true
   },
   "outputs": [],
   "source": [
    "import pandas as pd\n",
    "import numpy as np\n",
    "df_input = pd.read_csv(\"salaries.csv\")"
   ]
  },
  {
   "cell_type": "code",
   "execution_count": 50,
   "outputs": [],
   "source": [
    "df_input = df_input.sample(frac=1)"
   ],
   "metadata": {
    "collapsed": false
   }
  },
  {
   "cell_type": "code",
   "execution_count": 51,
   "outputs": [],
   "source": [
    "df_input = df_input.head()"
   ],
   "metadata": {
    "collapsed": false
   }
  },
  {
   "cell_type": "code",
   "execution_count": 52,
   "outputs": [
    {
     "data": {
      "text/plain": "       company                  job     degree  age  salary_more_then_100k\n3       google     business manager    masters   42                      1\n7   abc pharma  computer programmer  bachelors   25                      0\n8   abc pharma     business manager  bachelors   25                      0\n12    facebook     business manager  bachelors   54                      1\n9   abc pharma     business manager    masters   24                      1",
      "text/html": "<div>\n<style scoped>\n    .dataframe tbody tr th:only-of-type {\n        vertical-align: middle;\n    }\n\n    .dataframe tbody tr th {\n        vertical-align: top;\n    }\n\n    .dataframe thead th {\n        text-align: right;\n    }\n</style>\n<table border=\"1\" class=\"dataframe\">\n  <thead>\n    <tr style=\"text-align: right;\">\n      <th></th>\n      <th>company</th>\n      <th>job</th>\n      <th>degree</th>\n      <th>age</th>\n      <th>salary_more_then_100k</th>\n    </tr>\n  </thead>\n  <tbody>\n    <tr>\n      <th>3</th>\n      <td>google</td>\n      <td>business manager</td>\n      <td>masters</td>\n      <td>42</td>\n      <td>1</td>\n    </tr>\n    <tr>\n      <th>7</th>\n      <td>abc pharma</td>\n      <td>computer programmer</td>\n      <td>bachelors</td>\n      <td>25</td>\n      <td>0</td>\n    </tr>\n    <tr>\n      <th>8</th>\n      <td>abc pharma</td>\n      <td>business manager</td>\n      <td>bachelors</td>\n      <td>25</td>\n      <td>0</td>\n    </tr>\n    <tr>\n      <th>12</th>\n      <td>facebook</td>\n      <td>business manager</td>\n      <td>bachelors</td>\n      <td>54</td>\n      <td>1</td>\n    </tr>\n    <tr>\n      <th>9</th>\n      <td>abc pharma</td>\n      <td>business manager</td>\n      <td>masters</td>\n      <td>24</td>\n      <td>1</td>\n    </tr>\n  </tbody>\n</table>\n</div>"
     },
     "execution_count": 52,
     "metadata": {},
     "output_type": "execute_result"
    }
   ],
   "source": [
    "df_input"
   ],
   "metadata": {
    "collapsed": false
   }
  },
  {
   "cell_type": "code",
   "execution_count": 53,
   "outputs": [],
   "source": [
    "# create a bootstrapped dataset by sampling with replacement\n",
    "n = len(df_input)\n",
    "bootstrap_indices = np.random.choice(n, size=n, replace=True)\n",
    "bootstrapped_data = df_input.iloc[bootstrap_indices]"
   ],
   "metadata": {
    "collapsed": false
   }
  },
  {
   "cell_type": "code",
   "execution_count": 54,
   "outputs": [
    {
     "data": {
      "text/plain": "       company               job     degree  age  salary_more_then_100k\n9   abc pharma  business manager    masters   24                      1\n8   abc pharma  business manager  bachelors   25                      0\n12    facebook  business manager  bachelors   54                      1\n12    facebook  business manager  bachelors   54                      1\n9   abc pharma  business manager    masters   24                      1",
      "text/html": "<div>\n<style scoped>\n    .dataframe tbody tr th:only-of-type {\n        vertical-align: middle;\n    }\n\n    .dataframe tbody tr th {\n        vertical-align: top;\n    }\n\n    .dataframe thead th {\n        text-align: right;\n    }\n</style>\n<table border=\"1\" class=\"dataframe\">\n  <thead>\n    <tr style=\"text-align: right;\">\n      <th></th>\n      <th>company</th>\n      <th>job</th>\n      <th>degree</th>\n      <th>age</th>\n      <th>salary_more_then_100k</th>\n    </tr>\n  </thead>\n  <tbody>\n    <tr>\n      <th>9</th>\n      <td>abc pharma</td>\n      <td>business manager</td>\n      <td>masters</td>\n      <td>24</td>\n      <td>1</td>\n    </tr>\n    <tr>\n      <th>8</th>\n      <td>abc pharma</td>\n      <td>business manager</td>\n      <td>bachelors</td>\n      <td>25</td>\n      <td>0</td>\n    </tr>\n    <tr>\n      <th>12</th>\n      <td>facebook</td>\n      <td>business manager</td>\n      <td>bachelors</td>\n      <td>54</td>\n      <td>1</td>\n    </tr>\n    <tr>\n      <th>12</th>\n      <td>facebook</td>\n      <td>business manager</td>\n      <td>bachelors</td>\n      <td>54</td>\n      <td>1</td>\n    </tr>\n    <tr>\n      <th>9</th>\n      <td>abc pharma</td>\n      <td>business manager</td>\n      <td>masters</td>\n      <td>24</td>\n      <td>1</td>\n    </tr>\n  </tbody>\n</table>\n</div>"
     },
     "execution_count": 54,
     "metadata": {},
     "output_type": "execute_result"
    }
   ],
   "source": [
    "bootstrapped_data"
   ],
   "metadata": {
    "collapsed": false
   }
  },
  {
   "cell_type": "code",
   "execution_count": 55,
   "outputs": [
    {
     "data": {
      "text/plain": "      company                  job     degree  age  salary_more_then_100k\n3      google     business manager    masters   42                      1\n7  abc pharma  computer programmer  bachelors   25                      0",
      "text/html": "<div>\n<style scoped>\n    .dataframe tbody tr th:only-of-type {\n        vertical-align: middle;\n    }\n\n    .dataframe tbody tr th {\n        vertical-align: top;\n    }\n\n    .dataframe thead th {\n        text-align: right;\n    }\n</style>\n<table border=\"1\" class=\"dataframe\">\n  <thead>\n    <tr style=\"text-align: right;\">\n      <th></th>\n      <th>company</th>\n      <th>job</th>\n      <th>degree</th>\n      <th>age</th>\n      <th>salary_more_then_100k</th>\n    </tr>\n  </thead>\n  <tbody>\n    <tr>\n      <th>3</th>\n      <td>google</td>\n      <td>business manager</td>\n      <td>masters</td>\n      <td>42</td>\n      <td>1</td>\n    </tr>\n    <tr>\n      <th>7</th>\n      <td>abc pharma</td>\n      <td>computer programmer</td>\n      <td>bachelors</td>\n      <td>25</td>\n      <td>0</td>\n    </tr>\n  </tbody>\n</table>\n</div>"
     },
     "execution_count": 55,
     "metadata": {},
     "output_type": "execute_result"
    }
   ],
   "source": [
    "missing_indices = set(df_input.index) - set(bootstrapped_data.index)\n",
    "df_input.loc[list(missing_indices)]\n"
   ],
   "metadata": {
    "collapsed": false
   }
  }
 ],
 "metadata": {
  "kernelspec": {
   "display_name": "Python 3",
   "language": "python",
   "name": "python3"
  },
  "language_info": {
   "codemirror_mode": {
    "name": "ipython",
    "version": 2
   },
   "file_extension": ".py",
   "mimetype": "text/x-python",
   "name": "python",
   "nbconvert_exporter": "python",
   "pygments_lexer": "ipython2",
   "version": "2.7.6"
  }
 },
 "nbformat": 4,
 "nbformat_minor": 0
}
